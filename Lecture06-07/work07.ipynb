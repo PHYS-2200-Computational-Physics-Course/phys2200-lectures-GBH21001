{
 "cells": [
  {
   "cell_type": "code",
   "execution_count": null,
   "id": "b2e57629-1b03-4cbc-9ef5-0f54e1c540f4",
   "metadata": {},
   "outputs": [],
   "source": [
    "\n",
    "\"\"\"\n",
    "    mylegendre(m, x)\n",
    "\n",
    "Calculate Legendre polynomial P_n(x) using the recurrence relation    \n",
    "(n+1)P_{n+1}(x) = (2*n+1)*x*P_n(x) - n*P_{n-1}(x), and P_0(x) = 1, P_1(x) = x\n",
    "\"\"\"\n",
    "function mylegendre(m, x)\n",
    "\n",
    "    pp = 1\n",
    "    if m == 0 \n",
    "        return pp\n",
    "    end\n",
    "\n",
    "    pc = x\n",
    "    if m == 1\n",
    "        return pc\n",
    "    end\n",
    "\n",
    "    for n = 1:(m-1)\n",
    "        # pn = (2*n + 1)/(n + 1) * x * pc - n/(n + 1) * pp\n",
    "        # pp = pc\n",
    "        # pc = pn\n",
    "        pc, pp = (2*n + 1)/(n + 1) * x * pc - n/(n + 1) * pp, pc\n",
    "    end\n",
    "\n",
    "    return pc\n",
    "end"
   ]
  },
  {
   "cell_type": "code",
   "execution_count": null,
   "id": "f38e5808-0a6e-4028-ba29-1556146a2733",
   "metadata": {},
   "outputs": [],
   "source": [
    "\n",
    "@show mylegendre(3, 0.0);   # must be 0\n",
    "@show mylegendre(3, -1.0);  # must be -1"
   ]
  },
  {
   "cell_type": "code",
   "execution_count": null,
   "id": "ab6dee4e-6fd6-440e-88a8-1afbe3e99e95",
   "metadata": {},
   "outputs": [],
   "source": [
    "@time mylegendre(1, 1.0)"
   ]
  },
  {
   "cell_type": "code",
   "execution_count": null,
   "id": "326d959f-1145-4dba-afb7-667575c1ee48",
   "metadata": {},
   "outputs": [],
   "source": [
    "@time mylegendre(51, -1.0)"
   ]
  },
  {
   "cell_type": "code",
   "execution_count": null,
   "id": "dbfce446-5a7e-4c88-b7f4-b0e4bc1c1129",
   "metadata": {},
   "outputs": [],
   "source": [
    "\n",
    "np = 100\n",
    "x = range(-1.0, 1.0, np);"
   ]
  },
  {
   "cell_type": "code",
   "execution_count": null,
   "id": "bb88b28f-e0bd-45c8-91e2-c553bd8549b1",
   "metadata": {},
   "outputs": [],
   "source": [
    "using PyPlot"
   ]
  },
  {
   "cell_type": "code",
   "execution_count": null,
   "id": "a71f44b3-dcc3-4312-aefb-cfbab65745fc",
   "metadata": {},
   "outputs": [],
   "source": [
    "\n",
    "for n = [2, 3, 5, 7]\n",
    "    plot(x, mylegendre.(n, x), label=L\"P_{%$n}(x)\")\n",
    "end\n",
    "\n",
    "grid(true)\n",
    "title(\"Legendre Polynomials\")\n",
    "xlabel(\"x\")\n",
    "ylabel(L\"P_n(x)\")\n",
    "legend();"
   ]
  },
  {
   "cell_type": "code",
   "execution_count": null,
   "id": "742ed4b6-afb3-445a-8967-bd4d64d9a31a",
   "metadata": {},
   "outputs": [],
   "source": []
  },
  {
   "cell_type": "code",
   "execution_count": null,
   "id": "6b4398e0-5029-4457-a10b-5ff3896c6b3b",
   "metadata": {},
   "outputs": [],
   "source": []
  }
 ],
 "metadata": {
  "kernelspec": {
   "display_name": "Julia 1.11.6",
   "language": "julia",
   "name": "julia-1.11"
  },
  "language_info": {
   "file_extension": ".jl",
   "mimetype": "application/julia",
   "name": "julia",
   "version": "1.11.6"
  }
 },
 "nbformat": 4,
 "nbformat_minor": 5
}
