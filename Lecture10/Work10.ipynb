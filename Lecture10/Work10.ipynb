{
 "cells": [
  {
   "cell_type": "code",
   "execution_count": null,
   "id": "a37567c3-3be6-47b8-b3e0-aa733518339d",
   "metadata": {},
   "outputs": [],
   "source": [
    "\"\"\"\n",
    "\n",
    "    s = mybasel(N)\n",
    "\n",
    "Calculate finite Basel sum\n",
    "\"\"\"\n",
    "\n",
    "function mybasel(N)\n",
    "    s = 0.0\n",
    "    for n = 1:N\n",
    "        s += 1/(n^2)\n",
    "    end\n",
    "    \n",
    "    return s\n",
    "end"
   ]
  },
  {
   "cell_type": "code",
   "execution_count": null,
   "id": "7cde3c8e-2bb5-418d-a330-5e2c27eab4c7",
   "metadata": {},
   "outputs": [],
   "source": [
    "\n",
    "round(abs(mybasel(2000) - pi^2/6), sigdigits = 1)"
   ]
  },
  {
   "cell_type": "code",
   "execution_count": null,
   "id": "3f5f6d1d-462f-4965-a828-7818c453e436",
   "metadata": {},
   "outputs": [],
   "source": [
    "\n",
    "function myrichardson(N)\n",
    "    s1 = mybasel(N)\n",
    "    s2 = mybasel(2*N)\n",
    "    return 2*s2 - s1\n",
    "\n",
    "end"
   ]
  },
  {
   "cell_type": "code",
   "execution_count": null,
   "id": "36ab789b-5bee-405e-b4f9-3fbe809a9789",
   "metadata": {},
   "outputs": [],
   "source": [
    "\n",
    "round(abs(myrichardson(1000) - pi^2/6), sigdigits = 1)"
   ]
  },
  {
   "cell_type": "code",
   "execution_count": null,
   "id": "735ba9f7-3775-43eb-8864-922424c41a05",
   "metadata": {},
   "outputs": [],
   "source": [
    "\n",
    "round(abs(mybasel(5000000) - pi^2/6), sigdigits = 1)"
   ]
  },
  {
   "cell_type": "code",
   "execution_count": null,
   "id": "9bce946e-6e6b-4c13-8d58-5f3b42e7603b",
   "metadata": {},
   "outputs": [],
   "source": [
    "] add QuadGK"
   ]
  },
  {
   "cell_type": "code",
   "execution_count": null,
   "id": "a3912d30-e396-4c37-a825-6dff71f902c5",
   "metadata": {},
   "outputs": [],
   "source": [
    "\n",
    "using QuadGK"
   ]
  },
  {
   "cell_type": "code",
   "execution_count": null,
   "id": "def6581c-7ddf-487a-8f78-f9d2ead37a7b",
   "metadata": {},
   "outputs": [],
   "source": [
    "\n",
    "fun1(x) = 1/sqrt(x)"
   ]
  },
  {
   "cell_type": "code",
   "execution_count": null,
   "id": "84764862-4b83-4b7f-aa89-5566995ca988",
   "metadata": {},
   "outputs": [],
   "source": [
    "\n",
    "round(quadgk(fun1, 0, 1)[1], sigdigits=5)"
   ]
  },
  {
   "cell_type": "code",
   "execution_count": null,
   "id": "6990b9c5-0fbd-4b42-987f-2bbb48138b21",
   "metadata": {},
   "outputs": [],
   "source": [
    "\n",
    "fun2(x) = exp(-x) * log(x)"
   ]
  },
  {
   "cell_type": "code",
   "execution_count": null,
   "id": "da0bedd3-9054-4238-9030-a1d5405f9ad3",
   "metadata": {},
   "outputs": [],
   "source": [
    "\n",
    "quadgk(fun2, 0, Inf)"
   ]
  },
  {
   "cell_type": "code",
   "execution_count": null,
   "id": "14602917-feb0-4b1a-a9ee-a37223c42896",
   "metadata": {},
   "outputs": [],
   "source": []
  }
 ],
 "metadata": {
  "kernelspec": {
   "display_name": "Julia 1.11.6",
   "language": "julia",
   "name": "julia-1.11"
  },
  "language_info": {
   "file_extension": ".jl",
   "mimetype": "application/julia",
   "name": "julia",
   "version": "1.11.6"
  }
 },
 "nbformat": 4,
 "nbformat_minor": 5
}
