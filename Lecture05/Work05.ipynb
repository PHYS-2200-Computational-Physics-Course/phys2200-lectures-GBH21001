{
 "cells": [
  {
   "cell_type": "code",
   "execution_count": 9,
   "id": "f72553ad-b972-41df-8b8f-ec7ffd8d45da",
   "metadata": {},
   "outputs": [
    {
     "data": {
      "text/plain": [
       "myfib"
      ]
     },
     "execution_count": 9,
     "metadata": {},
     "output_type": "execute_result"
    }
   ],
   "source": [
    "\"\"\"\n",
    "    myfib(n)\n",
    "\n",
    "Calculate Fibonacci number F_n using the recurrence relation\n",
    "F_1 = 1, F_2 = 1, and F_n = F_n-1 + F_n-2 for n > 2.\n",
    "\"\"\"\n",
    "function myfib(n)\n",
    "\n",
    "    fp = 1\n",
    "    if n == 1\n",
    "        return fp\n",
    "    end\n",
    "\n",
    "    fc = 1\n",
    "    if n == 2\n",
    "        return fc\n",
    "    end\n",
    "\n",
    "    for i = 3:n\n",
    "        fn = fc + fp\n",
    "        fp = fc\n",
    "        fc = fn\n",
    "    end\n",
    "\n",
    "    return fc\n",
    "end"
   ]
  },
  {
   "cell_type": "code",
   "execution_count": 10,
   "id": "7c386fee-91c4-41e3-b091-8dda75e20801",
   "metadata": {},
   "outputs": [
    {
     "name": "stdout",
     "output_type": "stream",
     "text": [
      "search: \u001b[0m\u001b[1mm\u001b[22m\u001b[0m\u001b[1my\u001b[22m\u001b[0m\u001b[1mf\u001b[22m\u001b[0m\u001b[1mi\u001b[22m\u001b[0m\u001b[1mb\u001b[22m\n",
      "\n"
     ]
    },
    {
     "data": {
      "text/latex": [
       "\\begin{verbatim}\n",
       "myfib(n)\n",
       "\\end{verbatim}\n",
       "Calculate Fibonacci number F\\emph{n using the recurrence relation F}1 = 1, F\\emph{2 = 1, and F}n = F\\emph{n-1 + F}n-2 for n > 2.\n",
       "\n"
      ],
      "text/markdown": [
       "```\n",
       "myfib(n)\n",
       "```\n",
       "\n",
       "Calculate Fibonacci number F*n using the recurrence relation F*1 = 1, F*2 = 1, and F*n = F*n-1 + F*n-2 for n > 2.\n"
      ],
      "text/plain": [
       "\u001b[36m  myfib(n)\u001b[39m\n",
       "\n",
       "  Calculate Fibonacci number F\u001b[4mn using the recurrence relation F\u001b[24m1 = 1, F\u001b[4m2 = 1,\u001b[24m\n",
       "  \u001b[4mand F\u001b[24mn = F\u001b[4mn-1 + F\u001b[24mn-2 for n > 2."
      ]
     },
     "execution_count": 10,
     "metadata": {},
     "output_type": "execute_result"
    }
   ],
   "source": [
    "?myfib"
   ]
  },
  {
   "cell_type": "code",
   "execution_count": 34,
   "id": "6faea468-cd11-4d54-b927-b8ff879637b2",
   "metadata": {},
   "outputs": [
    {
     "data": {
      "text/plain": [
       "11-element Vector{Int64}:\n",
       " -5486041332463074051\n",
       " -1949362379464639899\n",
       " -7435403711927713950\n",
       "  9061977982317197767\n",
       "  1626574270389483817\n",
       " -7758191821002870032\n",
       " -6131617550613386215\n",
       "  4556934702093295369\n",
       " -1574682848520090846\n",
       "  2982251853573204523\n",
       "  1407569005053113677"
      ]
     },
     "execution_count": 34,
     "metadata": {},
     "output_type": "execute_result"
    }
   ],
   "source": [
    "\n",
    "myfib.(4495:4505)"
   ]
  },
  {
   "cell_type": "code",
   "execution_count": 35,
   "id": "2e528da4-3bef-42d0-91bf-ef524176fc57",
   "metadata": {},
   "outputs": [
    {
     "data": {
      "text/plain": [
       "myfib1 (generic function with 1 method)"
      ]
     },
     "execution_count": 35,
     "metadata": {},
     "output_type": "execute_result"
    }
   ],
   "source": [
    "function myfib1(n)\n",
    "    if n == 1\n",
    "        return 1\n",
    "    elseif n == 2\n",
    "        return 1\n",
    "    end\n",
    "\n",
    "    return myfib1(n-1) + myfib1(n-2)\n",
    "end"
   ]
  },
  {
   "cell_type": "code",
   "execution_count": 38,
   "id": "9244bcc0-76ae-43b7-9b0f-45c76f29270f",
   "metadata": {},
   "outputs": [
    {
     "data": {
      "text/plain": [
       "11-element Vector{Int64}:\n",
       "  1\n",
       "  1\n",
       "  2\n",
       "  3\n",
       "  5\n",
       "  8\n",
       " 13\n",
       " 21\n",
       " 34\n",
       " 55\n",
       " 89"
      ]
     },
     "execution_count": 38,
     "metadata": {},
     "output_type": "execute_result"
    }
   ],
   "source": [
    "myfib1.(1:11)"
   ]
  },
  {
   "cell_type": "code",
   "execution_count": 40,
   "id": "ebb12448-a2d2-407a-b635-fef4e3d09dae",
   "metadata": {},
   "outputs": [
    {
     "name": "stdout",
     "output_type": "stream",
     "text": [
      "  0.000000 seconds\n"
     ]
    }
   ],
   "source": [
    "\n",
    "@time myfib(50);"
   ]
  },
  {
   "cell_type": "code",
   "execution_count": null,
   "id": "4acbcddf-60bd-407f-8291-3359818b2a4c",
   "metadata": {},
   "outputs": [],
   "source": [
    "@time myfib1(51);"
   ]
  },
  {
   "cell_type": "code",
   "execution_count": null,
   "id": "4e4018a8-c99d-464a-a6d8-dd705f103f30",
   "metadata": {},
   "outputs": [],
   "source": []
  }
 ],
 "metadata": {
  "kernelspec": {
   "display_name": "Julia 1.11.6",
   "language": "julia",
   "name": "julia-1.11"
  },
  "language_info": {
   "file_extension": ".jl",
   "mimetype": "application/julia",
   "name": "julia",
   "version": "1.11.6"
  }
 },
 "nbformat": 4,
 "nbformat_minor": 5
}
