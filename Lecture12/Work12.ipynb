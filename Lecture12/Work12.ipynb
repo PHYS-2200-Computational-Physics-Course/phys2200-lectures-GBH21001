{
 "cells": [
  {
   "cell_type": "code",
   "execution_count": 10,
   "id": "bfd0e6ba-66b2-4429-9e46-7c4a890f7431",
   "metadata": {},
   "outputs": [
    {
     "data": {
      "text/plain": [
       "myeulersv (generic function with 1 method)"
      ]
     },
     "execution_count": 10,
     "metadata": {},
     "output_type": "execute_result"
    }
   ],
   "source": [
    "\n",
    "\"\"\"\n",
    "    t, y = myeulersv(fun, a, b, n, y1)\n",
    "\n",
    "Solve IVP y' = fun(t, y), a <= t <= b, y(a) = y1 using Euler's method.\n",
    "Use the integration step h = (b - a)/(n - 1). Return a vector of values\n",
    "of the independent variable t_i, and a matrix of correspondinig values\n",
    "of the solution, y(t_i)\n",
    "\"\"\"\n",
    "\n",
    "function myeulersv(fun, a, b, n, y1)\n",
    "    t= range(a, b, n)\n",
    "    neqs = length(y1)\n",
    "    dydt = zeros(neqs) # allocate the vector of derivatives\n",
    "    y = zeros(neqs, n) # allocate the matrix of solutions\n",
    "    h = t[2] - t[1]\n",
    "    y[:, 1] = y1\n",
    "    for i = 1:n-1\n",
    "        k1= h*fun(t[i], y[:, i])\n",
    "        y[:, i+1] = y[:, i] + k1\n",
    "    end\n",
    "    return t, y\n",
    "end"
   ]
  },
  {
   "cell_type": "code",
   "execution_count": 11,
   "id": "5ea2f506-d137-4974-a531-a557ed2066d6",
   "metadata": {},
   "outputs": [
    {
     "data": {
      "text/plain": [
       "frict (generic function with 1 method)"
      ]
     },
     "execution_count": 11,
     "metadata": {},
     "output_type": "execute_result"
    }
   ],
   "source": [
    "\n",
    "function frict(t,y)\n",
    "    dydt = zeros(2)\n",
    "    dydt[1] = y[2]\n",
    "    dyty[2] = -y[1] - y[2]\n",
    "    return dydt\n",
    "end"
   ]
  },
  {
   "cell_type": "code",
   "execution_count": 12,
   "id": "eaf5a594-3ec2-45eb-8724-dce7d678d62d",
   "metadata": {},
   "outputs": [
    {
     "data": {
      "text/plain": [
       "2-element Vector{Float64}:\n",
       " 1.0\n",
       " 0.0"
      ]
     },
     "execution_count": 12,
     "metadata": {},
     "output_type": "execute_result"
    }
   ],
   "source": [
    "\n",
    "a = 0.0\n",
    "b = 10.0\n",
    "n=100\n",
    "y1 = [1.0,0.0]"
   ]
  },
  {
   "cell_type": "code",
   "execution_count": 13,
   "id": "5b46c3d7-f864-4847-a472-1764c2a28964",
   "metadata": {},
   "outputs": [
    {
     "ename": "LoadError",
     "evalue": "UndefVarError: `dyty` not defined in `Main`\nSuggestion: check for spelling errors or missing imports.",
     "output_type": "error",
     "traceback": [
      "UndefVarError: `dyty` not defined in `Main`\nSuggestion: check for spelling errors or missing imports.",
      "",
      "Stacktrace:",
      " [1] \u001b[0m\u001b[1mfrict\u001b[22m\u001b[0m\u001b[1m(\u001b[22m\u001b[90mt\u001b[39m::\u001b[0mFloat64, \u001b[90my\u001b[39m::\u001b[0mVector\u001b[90m{Float64}\u001b[39m\u001b[0m\u001b[1m)\u001b[22m",
      "\u001b[90m   @\u001b[39m \u001b[35mMain\u001b[39m \u001b[90m./\u001b[39m\u001b[90m\u001b[4mIn[11]:5\u001b[24m\u001b[39m",
      " [2] \u001b[0m\u001b[1mmyeulersv\u001b[22m\u001b[0m\u001b[1m(\u001b[22m\u001b[90mfun\u001b[39m::\u001b[0mtypeof(frict), \u001b[90ma\u001b[39m::\u001b[0mFloat64, \u001b[90mb\u001b[39m::\u001b[0mFloat64, \u001b[90mn\u001b[39m::\u001b[0mInt64, \u001b[90my1\u001b[39m::\u001b[0mVector\u001b[90m{Float64}\u001b[39m\u001b[0m\u001b[1m)\u001b[22m",
      "\u001b[90m   @\u001b[39m \u001b[35mMain\u001b[39m \u001b[90m./\u001b[39m\u001b[90m\u001b[4mIn[10]:19\u001b[24m\u001b[39m",
      " [3] top-level scope",
      "\u001b[90m   @\u001b[39m \u001b[90m\u001b[4mIn[13]:2\u001b[24m\u001b[39m"
     ]
    }
   ],
   "source": [
    "\n",
    "t, y = myeulersv(frict, a, b, n, y1)"
   ]
  },
  {
   "cell_type": "code",
   "execution_count": 14,
   "id": "dbccdd78-b49d-41e3-b3b9-2149b28f1eaa",
   "metadata": {},
   "outputs": [],
   "source": [
    "\n",
    "using PyPlot"
   ]
  },
  {
   "cell_type": "code",
   "execution_count": 15,
   "id": "cc20203b-caa1-4a47-9f5a-607f659a7bab",
   "metadata": {},
   "outputs": [
    {
     "ename": "LoadError",
     "evalue": "UndefVarError: `t` not defined in `Main`\nSuggestion: check for spelling errors or missing imports.",
     "output_type": "error",
     "traceback": [
      "UndefVarError: `t` not defined in `Main`\nSuggestion: check for spelling errors or missing imports.",
      "",
      "Stacktrace:",
      " [1] top-level scope",
      "\u001b[90m   @\u001b[39m \u001b[90m\u001b[4mIn[15]:2\u001b[24m\u001b[39m"
     ]
    }
   ],
   "source": [
    "\n",
    "plot(t, y[1, :])"
   ]
  },
  {
   "cell_type": "code",
   "execution_count": 16,
   "id": "46b90146-0a81-466c-b9fe-4964a846a975",
   "metadata": {},
   "outputs": [
    {
     "ename": "LoadError",
     "evalue": "UndefVarError: `y` not defined in `Main`\nSuggestion: check for spelling errors or missing imports.",
     "output_type": "error",
     "traceback": [
      "UndefVarError: `y` not defined in `Main`\nSuggestion: check for spelling errors or missing imports.",
      "",
      "Stacktrace:",
      " [1] top-level scope",
      "\u001b[90m   @\u001b[39m \u001b[90m\u001b[4mIn[16]:2\u001b[24m\u001b[39m"
     ]
    }
   ],
   "source": [
    "\n",
    "plot(t, y[1, :], label=\"coordinate\")\n",
    "plot(t, y[2, :], label=\"velocity\")\n",
    "grid(true)\n",
    "title(\"Oscilater with Friction\")\n",
    "xlabel(\"Time\")"
   ]
  },
  {
   "cell_type": "code",
   "execution_count": 17,
   "id": "527ea379-8ea7-46ec-b046-556aa1b6f4eb",
   "metadata": {},
   "outputs": [
    {
     "ename": "LoadError",
     "evalue": "UndefVarError: `y` not defined in `Main`\nSuggestion: check for spelling errors or missing imports.",
     "output_type": "error",
     "traceback": [
      "UndefVarError: `y` not defined in `Main`\nSuggestion: check for spelling errors or missing imports.",
      "",
      "Stacktrace:",
      " [1] top-level scope",
      "\u001b[90m   @\u001b[39m \u001b[90m\u001b[4mIn[17]:2\u001b[24m\u001b[39m"
     ]
    }
   ],
   "source": [
    "\n",
    "plot(y[1, :], y[2, :])\n",
    "grid(true)\n",
    "scatter(y1...)\n",
    "title(\"Oscilater with Friction\")\n",
    "xlabel(\"Coordinate\")\n",
    "ylabel(\"Velocity\")"
   ]
  },
  {
   "cell_type": "code",
   "execution_count": 62,
   "id": "14a6705b-6075-457f-9908-5ff4421128bd",
   "metadata": {},
   "outputs": [],
   "source": [
    "\n",
    "### Spherical Bessel Function"
   ]
  },
  {
   "cell_type": "code",
   "execution_count": 41,
   "id": "64fc5d58-51ee-4be4-a9a5-5e6c15eee6bd",
   "metadata": {},
   "outputs": [
    {
     "data": {
      "text/plain": [
       "bes (generic function with 1 method)"
      ]
     },
     "execution_count": 41,
     "metadata": {},
     "output_type": "execute_result"
    }
   ],
   "source": [
    "\n",
    "function bes(x, u)\n",
    "    dudx = zeros(2)\n",
    "    dudx[1] = u[2]\n",
    "    dudx[2] = abs(x) > eps() ? -2/x*u[2]-(1-2/x^2) * u[1] : 0.0\n",
    "    return dudx\n",
    "end"
   ]
  },
  {
   "cell_type": "code",
   "execution_count": 58,
   "id": "1fc66c07-8ebf-4f60-824e-182f6299e010",
   "metadata": {},
   "outputs": [
    {
     "data": {
      "text/plain": [
       "2-element Vector{Float64}:\n",
       " 0.0\n",
       " 0.3333333333333333"
      ]
     },
     "execution_count": 58,
     "metadata": {},
     "output_type": "execute_result"
    }
   ],
   "source": [
    "\n",
    "abes = 0.0\n",
    "bbes = 20.0\n",
    "nbes = 4000\n",
    "uobes = [0.0, 1/3]"
   ]
  },
  {
   "cell_type": "code",
   "execution_count": 59,
   "id": "157868df-5db0-4596-81eb-30b1fb1f4cf4",
   "metadata": {},
   "outputs": [
    {
     "data": {
      "text/plain": [
       "(0.0:0.005001250312578144:20.0, [0.0 0.0016670834375260481 … -0.01873680946220431 -0.01848870732252748; 0.3333333333333333 0.3333333333333333 … 0.049608022828381886 0.04967644511115136])"
      ]
     },
     "execution_count": 59,
     "metadata": {},
     "output_type": "execute_result"
    }
   ],
   "source": [
    "\n",
    "x, u = myeulersv(bes, abes, bbes, nbes, uobes)"
   ]
  },
  {
   "cell_type": "code",
   "execution_count": 60,
   "id": "038302cc-0c76-4da1-84d2-b9c3389704d4",
   "metadata": {},
   "outputs": [
    {
     "data": {
      "text/plain": [
       "j1exact (generic function with 1 method)"
      ]
     },
     "execution_count": 60,
     "metadata": {},
     "output_type": "execute_result"
    }
   ],
   "source": [
    "\n",
    "j1exact(x) = abs(x) > eps() ? sin(x)/x^2 - cos(x)/x : 0"
   ]
  },
  {
   "cell_type": "code",
   "execution_count": 61,
   "id": "41699b44-a536-4e5c-bacf-ffc29ab89ee3",
   "metadata": {},
   "outputs": [
    {
     "data": {
      "image/png": "[encoded data removed]",
      "text/plain": [
       "Figure(PyObject <Figure size 640x480 with 1 Axes>)"
      ]
     },
     "metadata": {},
     "output_type": "display_data"
    },
    {
     "data": {
      "text/plain": [
       "PyObject Text(0.5, 1.0, 'Spherical Bessel')"
      ]
     },
     "execution_count": 61,
     "metadata": {},
     "output_type": "execute_result"
    }
   ],
   "source": [
    "\n",
    "plot(x,u[1, :], label=\"Bessel Numerical\")\n",
    "plot(x, j1exact.(x), label=\"Bessel Exact\") #the dot after the j1exact is to make sure the function plots every and all values for the changing x\n",
    "grid(true)\n",
    "xlabel(\"x\")\n",
    "ylabel(L\"j_1(x)\")\n",
    "legend()\n",
    "title(\"Spherical Bessel\")"
   ]
  },
  {
   "cell_type": "code",
   "execution_count": null,
   "id": "db3fe04a-176f-4d33-aba0-37e5ed63910f",
   "metadata": {},
   "outputs": [],
   "source": []
  }
 ],
 "metadata": {
  "kernelspec": {
   "display_name": "Julia 1.11.7",
   "language": "julia",
   "name": "julia-1.11"
  },
  "language_info": {
   "file_extension": ".jl",
   "mimetype": "application/julia",
   "name": "julia",
   "version": "1.11.7"
  }
 },
 "nbformat": 4,
 "nbformat_minor": 5
}
